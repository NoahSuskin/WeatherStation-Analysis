{
 "cells": [
  {
   "cell_type": "code",
   "execution_count": 1,
   "metadata": {},
   "outputs": [],
   "source": [
    "%matplotlib inline\n",
    "from matplotlib import style\n",
    "style.use('fivethirtyeight')\n",
    "import matplotlib.pyplot as plt\n",
    "import numpy as np\n",
    "import pandas as pd\n",
    "import datetime as dt\n",
    "import sqlalchemy\n",
    "from sqlalchemy.ext.automap import automap_base\n",
    "from sqlalchemy.orm import Session\n",
    "from sqlalchemy import create_engine, func\n",
    "import scipy.stats as stats"
   ]
  },
  {
   "cell_type": "markdown",
   "metadata": {},
   "source": [
    "# Reflect Tables into SQLAlchemy ORM"
   ]
  },
  {
   "cell_type": "code",
   "execution_count": 2,
   "metadata": {},
   "outputs": [],
   "source": [
    "# Vacation dates\n",
    "\n",
    "beg = '7/8/2020'\n",
    "end = '7/22/2020'"
   ]
  },
  {
   "cell_type": "code",
   "execution_count": 3,
   "metadata": {},
   "outputs": [],
   "source": [
    "# Creating the database engine\n",
    "\n",
    "path = '/Users/noahsuskin/desktop/RU-JER-DATA-PT-04-2020-U-C/Homework/10-Advanced-Data-Storage-and-Retrieval/Instructions/Resources/hawaii.sqlite'\n",
    "engine = create_engine(f\"sqlite:///{path}\")\n",
    "session = Session(engine)"
   ]
  },
  {
   "cell_type": "code",
   "execution_count": 4,
   "metadata": {},
   "outputs": [
    {
     "data": {
      "text/plain": [
       "['measurement', 'station']"
      ]
     },
     "execution_count": 4,
     "metadata": {},
     "output_type": "execute_result"
    }
   ],
   "source": [
    "# Finding the names of the objects in the database\n",
    "\n",
    "Base = automap_base()\n",
    "Base.prepare(engine, reflect=True)\n",
    "Base.classes.keys()"
   ]
  },
  {
   "cell_type": "code",
   "execution_count": 5,
   "metadata": {},
   "outputs": [
    {
     "data": {
      "text/plain": [
       "{'_sa_instance_state': <sqlalchemy.orm.state.InstanceState at 0x7fe49c927490>,\n",
       " 'date': '2010-01-01',\n",
       " 'tobs': 65.0,\n",
       " 'prcp': 0.08,\n",
       " 'id': 1,\n",
       " 'station': 'USC00519397'}"
      ]
     },
     "execution_count": 5,
     "metadata": {},
     "output_type": "execute_result"
    }
   ],
   "source": [
    "# Viewing the measurement object layout\n",
    "\n",
    "measurement = Base.classes.measurement\n",
    "meas_first_row = session.query(measurement).first().__dict__\n",
    "meas_first_row"
   ]
  },
  {
   "cell_type": "code",
   "execution_count": 6,
   "metadata": {},
   "outputs": [
    {
     "data": {
      "text/plain": [
       "{'_sa_instance_state': <sqlalchemy.orm.state.InstanceState at 0x7fe49c92f090>,\n",
       " 'station': 'USC00519397',\n",
       " 'latitude': 21.2716,\n",
       " 'longitude': -157.8168,\n",
       " 'id': 1,\n",
       " 'name': 'WAIKIKI 717.2, HI US',\n",
       " 'elevation': 3.0}"
      ]
     },
     "execution_count": 6,
     "metadata": {},
     "output_type": "execute_result"
    }
   ],
   "source": [
    "# Viewing the station object layout\n",
    "\n",
    "station = Base.classes.station\n",
    "station_first_row = session.query(station).first().__dict__\n",
    "station_first_row"
   ]
  },
  {
   "cell_type": "code",
   "execution_count": 7,
   "metadata": {},
   "outputs": [],
   "source": [
    "# Creating the connection between the database and python\n",
    "\n",
    "conn = engine.connect()"
   ]
  },
  {
   "cell_type": "markdown",
   "metadata": {},
   "source": [
    "# Climate Analysis"
   ]
  },
  {
   "cell_type": "code",
   "execution_count": 8,
   "metadata": {},
   "outputs": [
    {
     "data": {
      "text/plain": [
       "[('2017-08-23')]"
      ]
     },
     "execution_count": 8,
     "metadata": {},
     "output_type": "execute_result"
    }
   ],
   "source": [
    "# Precipitaion Analysis\n",
    "\n",
    "# Getting the latest date in the database\n",
    "max_date = session.query(func.max(measurement.date)).all()\n",
    "max_date"
   ]
  },
  {
   "cell_type": "code",
   "execution_count": 9,
   "metadata": {},
   "outputs": [],
   "source": [
    "# Extracting the date\n",
    "\n",
    "start_date_lst = max_date[0][0].split('-')\n",
    "start_date_year = start_date_lst[0]\n",
    "\n",
    "start_date_month = start_date_lst[1]\n",
    "if start_date_month[0] == '0':\n",
    "    start_date_month = start_date_month.replace('0', '')\n",
    "\n",
    "\n",
    "start_date_day = start_date_lst[2]\n",
    "if start_date_day[0] == '0':\n",
    "    start_date_day = start_date_day.replace('0', '')\n",
    "\n"
   ]
  },
  {
   "cell_type": "code",
   "execution_count": 10,
   "metadata": {},
   "outputs": [
    {
     "data": {
      "text/html": [
       "<div>\n",
       "<style scoped>\n",
       "    .dataframe tbody tr th:only-of-type {\n",
       "        vertical-align: middle;\n",
       "    }\n",
       "\n",
       "    .dataframe tbody tr th {\n",
       "        vertical-align: top;\n",
       "    }\n",
       "\n",
       "    .dataframe thead th {\n",
       "        text-align: right;\n",
       "    }\n",
       "</style>\n",
       "<table border=\"1\" class=\"dataframe\">\n",
       "  <thead>\n",
       "    <tr style=\"text-align: right;\">\n",
       "      <th></th>\n",
       "      <th>date</th>\n",
       "      <th>precipitation</th>\n",
       "    </tr>\n",
       "  </thead>\n",
       "  <tbody>\n",
       "    <tr>\n",
       "      <th>0</th>\n",
       "      <td>2016-08-23</td>\n",
       "      <td>0.00</td>\n",
       "    </tr>\n",
       "    <tr>\n",
       "      <th>1</th>\n",
       "      <td>2016-08-24</td>\n",
       "      <td>0.08</td>\n",
       "    </tr>\n",
       "    <tr>\n",
       "      <th>2</th>\n",
       "      <td>2016-08-25</td>\n",
       "      <td>0.08</td>\n",
       "    </tr>\n",
       "    <tr>\n",
       "      <th>3</th>\n",
       "      <td>2016-08-26</td>\n",
       "      <td>0.00</td>\n",
       "    </tr>\n",
       "    <tr>\n",
       "      <th>4</th>\n",
       "      <td>2016-08-27</td>\n",
       "      <td>0.00</td>\n",
       "    </tr>\n",
       "  </tbody>\n",
       "</table>\n",
       "</div>"
      ],
      "text/plain": [
       "         date  precipitation\n",
       "0  2016-08-23           0.00\n",
       "1  2016-08-24           0.08\n",
       "2  2016-08-25           0.08\n",
       "3  2016-08-26           0.00\n",
       "4  2016-08-27           0.00"
      ]
     },
     "execution_count": 10,
     "metadata": {},
     "output_type": "execute_result"
    }
   ],
   "source": [
    "# Precipitation Analysis\n",
    "\n",
    "# Getting the start date of the past 12 months of data\n",
    "start_date = dt.date(int(start_date_year),int(start_date_month),int(start_date_day)) - dt.timedelta(days=365)\n",
    "\n",
    "# Creating df\n",
    "query = session.query(measurement.date, measurement.prcp).filter(measurement.date >= start_date).all()\n",
    "precipiation_df = pd.DataFrame(query, columns=['date', 'precipitation'])\n",
    "precipiation_df.head()\n"
   ]
  },
  {
   "cell_type": "code",
   "execution_count": 11,
   "metadata": {},
   "outputs": [
    {
     "data": {
      "text/html": [
       "<div>\n",
       "<style scoped>\n",
       "    .dataframe tbody tr th:only-of-type {\n",
       "        vertical-align: middle;\n",
       "    }\n",
       "\n",
       "    .dataframe tbody tr th {\n",
       "        vertical-align: top;\n",
       "    }\n",
       "\n",
       "    .dataframe thead th {\n",
       "        text-align: right;\n",
       "    }\n",
       "</style>\n",
       "<table border=\"1\" class=\"dataframe\">\n",
       "  <thead>\n",
       "    <tr style=\"text-align: right;\">\n",
       "      <th></th>\n",
       "      <th>precipitation</th>\n",
       "    </tr>\n",
       "    <tr>\n",
       "      <th>date</th>\n",
       "      <th></th>\n",
       "    </tr>\n",
       "  </thead>\n",
       "  <tbody>\n",
       "    <tr>\n",
       "      <th>2016-08-23</th>\n",
       "      <td>2.71</td>\n",
       "    </tr>\n",
       "    <tr>\n",
       "      <th>2016-08-24</th>\n",
       "      <td>9.33</td>\n",
       "    </tr>\n",
       "    <tr>\n",
       "      <th>2016-08-25</th>\n",
       "      <td>0.54</td>\n",
       "    </tr>\n",
       "    <tr>\n",
       "      <th>2016-08-26</th>\n",
       "      <td>0.10</td>\n",
       "    </tr>\n",
       "    <tr>\n",
       "      <th>2016-08-27</th>\n",
       "      <td>0.32</td>\n",
       "    </tr>\n",
       "  </tbody>\n",
       "</table>\n",
       "</div>"
      ],
      "text/plain": [
       "            precipitation\n",
       "date                     \n",
       "2016-08-23           2.71\n",
       "2016-08-24           9.33\n",
       "2016-08-25           0.54\n",
       "2016-08-26           0.10\n",
       "2016-08-27           0.32"
      ]
     },
     "execution_count": 11,
     "metadata": {},
     "output_type": "execute_result"
    }
   ],
   "source": [
    "# Precipitaion Analysis\n",
    "\n",
    "# Modifying and Cleaning the df\n",
    "precipiation_df = precipiation_df.groupby(['date']).sum()\n",
    "precipiation_df = precipiation_df.sort_index()\n",
    "precipiation_df.head()"
   ]
  },
  {
   "cell_type": "code",
   "execution_count": 12,
   "metadata": {},
   "outputs": [
    {
     "data": {
      "image/png": "[encoded data removed]",
      "text/plain": [
       "<Figure size 720x360 with 1 Axes>"
      ]
     },
     "metadata": {},
     "output_type": "display_data"
    }
   ],
   "source": [
    "# Precipitaion Analysis\n",
    "\n",
    "# Plotting the df\n",
    "precipiation_df.plot(figsize=(10,5))\n",
    "plt.xticks(rotation=90)\n",
    "plt.xlabel('Date')\n",
    "plt.ylabel('Inches')\n",
    "plt.show()"
   ]
  },
  {
   "cell_type": "code",
   "execution_count": 13,
   "metadata": {},
   "outputs": [
    {
     "data": {
      "text/html": [
       "<div>\n",
       "<style scoped>\n",
       "    .dataframe tbody tr th:only-of-type {\n",
       "        vertical-align: middle;\n",
       "    }\n",
       "\n",
       "    .dataframe tbody tr th {\n",
       "        vertical-align: top;\n",
       "    }\n",
       "\n",
       "    .dataframe thead th {\n",
       "        text-align: right;\n",
       "    }\n",
       "</style>\n",
       "<table border=\"1\" class=\"dataframe\">\n",
       "  <thead>\n",
       "    <tr style=\"text-align: right;\">\n",
       "      <th></th>\n",
       "      <th>precipitation</th>\n",
       "    </tr>\n",
       "  </thead>\n",
       "  <tbody>\n",
       "    <tr>\n",
       "      <th>count</th>\n",
       "      <td>366.000000</td>\n",
       "    </tr>\n",
       "    <tr>\n",
       "      <th>mean</th>\n",
       "      <td>0.978907</td>\n",
       "    </tr>\n",
       "    <tr>\n",
       "      <th>std</th>\n",
       "      <td>1.776349</td>\n",
       "    </tr>\n",
       "    <tr>\n",
       "      <th>min</th>\n",
       "      <td>0.000000</td>\n",
       "    </tr>\n",
       "    <tr>\n",
       "      <th>25%</th>\n",
       "      <td>0.052500</td>\n",
       "    </tr>\n",
       "    <tr>\n",
       "      <th>50%</th>\n",
       "      <td>0.405000</td>\n",
       "    </tr>\n",
       "    <tr>\n",
       "      <th>75%</th>\n",
       "      <td>1.087500</td>\n",
       "    </tr>\n",
       "    <tr>\n",
       "      <th>max</th>\n",
       "      <td>14.280000</td>\n",
       "    </tr>\n",
       "  </tbody>\n",
       "</table>\n",
       "</div>"
      ],
      "text/plain": [
       "       precipitation\n",
       "count     366.000000\n",
       "mean        0.978907\n",
       "std         1.776349\n",
       "min         0.000000\n",
       "25%         0.052500\n",
       "50%         0.405000\n",
       "75%         1.087500\n",
       "max        14.280000"
      ]
     },
     "execution_count": 13,
     "metadata": {},
     "output_type": "execute_result"
    }
   ],
   "source": [
    "# Precipitaion Analysis\n",
    "\n",
    "# Summary Statistics\n",
    "precipiation_df.describe()"
   ]
  },
  {
   "cell_type": "markdown",
   "metadata": {},
   "source": [
    "# Station Analysis"
   ]
  },
  {
   "cell_type": "code",
   "execution_count": 14,
   "metadata": {},
   "outputs": [
    {
     "data": {
      "text/plain": [
       "(9)"
      ]
     },
     "execution_count": 14,
     "metadata": {},
     "output_type": "execute_result"
    }
   ],
   "source": [
    "# Station Analysis\n",
    "\n",
    "# Calculating the total number of stations\n",
    "num_of_stations = session.query(func.count(station.id)).all()[0]\n",
    "num_of_stations"
   ]
  },
  {
   "cell_type": "code",
   "execution_count": 15,
   "metadata": {},
   "outputs": [
    {
     "data": {
      "text/plain": [
       "[('WAIHEE 837.5, HI US', 'USC00519281', 2772),\n",
       " ('WAIKIKI 717.2, HI US', 'USC00519397', 2724),\n",
       " ('KANEOHE 838.1, HI US', 'USC00513117', 2709),\n",
       " ('WAIMANALO EXPERIMENTAL FARM, HI US', 'USC00519523', 2669),\n",
       " ('MANOA LYON ARBO 785.2, HI US', 'USC00516128', 2612),\n",
       " ('KUALOA RANCH HEADQUARTERS 886.9, HI US', 'USC00514830', 2202),\n",
       " ('HONOLULU OBSERVATORY 702.2, HI US', 'USC00511918', 1979),\n",
       " ('PEARL CITY, HI US', 'USC00517948', 1372),\n",
       " ('UPPER WAHIAWA 874.3, HI US', 'USC00518838', 511)]"
      ]
     },
     "execution_count": 15,
     "metadata": {},
     "output_type": "execute_result"
    }
   ],
   "source": [
    "# Station Analysis\n",
    "\n",
    "# Listing the stations name, station, and number of observations\n",
    "stations_count = session.query(station.name, measurement.station, func.count(measurement.station))\\\n",
    "    .group_by(measurement.station)\\\n",
    "    .filter(station.station == measurement.station)\\\n",
    "    .order_by(func.count(measurement.station).desc())\\\n",
    "    .all()\n",
    "stations_count"
   ]
  },
  {
   "cell_type": "code",
   "execution_count": 16,
   "metadata": {},
   "outputs": [
    {
     "data": {
      "text/plain": [
       "[('WAIHEE 837.5, HI US', 'USC00519281', 2772)]"
      ]
     },
     "execution_count": 16,
     "metadata": {},
     "output_type": "execute_result"
    }
   ],
   "source": [
    "# Station Analysis\n",
    "\n",
    "# Station with the highest number of observations\n",
    "highest_station = session.query(station.name, measurement.station, func.count(measurement.station))\\\n",
    "    .group_by(measurement.station)\\\n",
    "    .filter(station.station == measurement.station)\\\n",
    "    .order_by(func.count(measurement.station).desc())\\\n",
    "    .limit(1)\\\n",
    "    .all()\n",
    "highest_station"
   ]
  },
  {
   "cell_type": "code",
   "execution_count": 17,
   "metadata": {},
   "outputs": [
    {
     "data": {
      "text/plain": [
       "[('WAIKIKI 717.2, HI US', 'USC00519397', 361)]"
      ]
     },
     "execution_count": 17,
     "metadata": {},
     "output_type": "execute_result"
    }
   ],
   "source": [
    "# Station Analysis\n",
    "\n",
    "# Station with the highest number of observations within the past 12 months\n",
    "highest_station_12_month = session.query(station.name, measurement.station, func.count(measurement.station))\\\n",
    "    .group_by(measurement.station)\\\n",
    "    .filter(station.station == measurement.station)\\\n",
    "    .filter(measurement.date >= start_date)\\\n",
    "    .order_by(func.count(measurement.station).desc())\\\n",
    "    .limit(1)\\\n",
    "    .all()\n",
    "highest_station_12_month"
   ]
  },
  {
   "cell_type": "code",
   "execution_count": 18,
   "metadata": {},
   "outputs": [
    {
     "data": {
      "text/plain": [
       "[('2016-08-23', 81.0, 'USC00519397'),\n",
       " ('2016-08-24', 79.0, 'USC00519397'),\n",
       " ('2016-08-25', 80.0, 'USC00519397'),\n",
       " ('2016-08-26', 79.0, 'USC00519397'),\n",
       " ('2016-08-27', 77.0, 'USC00519397'),\n",
       " ('2016-08-28', 78.0, 'USC00519397'),\n",
       " ('2016-08-29', 78.0, 'USC00519397'),\n",
       " ('2016-08-30', 79.0, 'USC00519397'),\n",
       " ('2016-08-31', 80.0, 'USC00519397'),\n",
       " ('2016-09-01', 81.0, 'USC00519397'),\n",
       " ('2016-09-02', 80.0, 'USC00519397'),\n",
       " ('2016-09-03', 79.0, 'USC00519397'),\n",
       " ('2016-09-04', 75.0, 'USC00519397'),\n",
       " ('2016-09-05', 79.0, 'USC00519397'),\n",
       " ('2016-09-06', 76.0, 'USC00519397'),\n",
       " ('2016-09-07', 76.0, 'USC00519397'),\n",
       " ('2016-09-08', 80.0, 'USC00519397'),\n",
       " ('2016-09-09', 79.0, 'USC00519397'),\n",
       " ('2016-09-10', 78.0, 'USC00519397'),\n",
       " ('2016-09-11', 76.0, 'USC00519397'),\n",
       " ('2016-09-12', 78.0, 'USC00519397'),\n",
       " ('2016-09-13', 78.0, 'USC00519397'),\n",
       " ('2016-09-14', 75.0, 'USC00519397'),\n",
       " ('2016-09-15', 79.0, 'USC00519397'),\n",
       " ('2016-09-16', 80.0, 'USC00519397'),\n",
       " ('2016-09-17', 79.0, 'USC00519397'),\n",
       " ('2016-09-18', 81.0, 'USC00519397'),\n",
       " ('2016-09-19', 77.0, 'USC00519397'),\n",
       " ('2016-09-20', 77.0, 'USC00519397'),\n",
       " ('2016-09-21', 78.0, 'USC00519397'),\n",
       " ('2016-09-22', 76.0, 'USC00519397'),\n",
       " ('2016-09-23', 82.0, 'USC00519397'),\n",
       " ('2016-09-24', 81.0, 'USC00519397'),\n",
       " ('2016-09-25', 78.0, 'USC00519397'),\n",
       " ('2016-09-26', 80.0, 'USC00519397'),\n",
       " ('2016-09-27', 80.0, 'USC00519397'),\n",
       " ('2016-09-28', 79.0, 'USC00519397'),\n",
       " ('2016-09-29', 80.0, 'USC00519397'),\n",
       " ('2016-09-30', 80.0, 'USC00519397'),\n",
       " ('2016-10-01', 80.0, 'USC00519397'),\n",
       " ('2016-10-02', 79.0, 'USC00519397'),\n",
       " ('2016-10-03', 79.0, 'USC00519397'),\n",
       " ('2016-10-04', 79.0, 'USC00519397'),\n",
       " ('2016-10-05', 80.0, 'USC00519397'),\n",
       " ('2016-10-06', 80.0, 'USC00519397'),\n",
       " ('2016-10-07', 79.0, 'USC00519397'),\n",
       " ('2016-10-08', 78.0, 'USC00519397'),\n",
       " ('2016-10-09', 76.0, 'USC00519397'),\n",
       " ('2016-10-10', 75.0, 'USC00519397'),\n",
       " ('2016-10-11', 80.0, 'USC00519397'),\n",
       " ('2016-10-12', 80.0, 'USC00519397'),\n",
       " ('2016-10-13', 79.0, 'USC00519397'),\n",
       " ('2016-10-14', 80.0, 'USC00519397'),\n",
       " ('2016-10-15', 79.0, 'USC00519397'),\n",
       " ('2016-10-16', 78.0, 'USC00519397'),\n",
       " ('2016-10-17', 78.0, 'USC00519397'),\n",
       " ('2016-10-18', 80.0, 'USC00519397'),\n",
       " ('2016-10-19', 81.0, 'USC00519397'),\n",
       " ('2016-10-20', 79.0, 'USC00519397'),\n",
       " ('2016-10-21', 77.0, 'USC00519397'),\n",
       " ('2016-10-22', 79.0, 'USC00519397'),\n",
       " ('2016-10-23', 78.0, 'USC00519397'),\n",
       " ('2016-10-24', 77.0, 'USC00519397'),\n",
       " ('2016-10-25', 77.0, 'USC00519397'),\n",
       " ('2016-10-26', 78.0, 'USC00519397'),\n",
       " ('2016-10-27', 77.0, 'USC00519397'),\n",
       " ('2016-10-28', 78.0, 'USC00519397'),\n",
       " ('2016-10-29', 77.0, 'USC00519397'),\n",
       " ('2016-10-30', 76.0, 'USC00519397'),\n",
       " ('2016-10-31', 77.0, 'USC00519397'),\n",
       " ('2016-11-01', 77.0, 'USC00519397'),\n",
       " ('2016-11-02', 77.0, 'USC00519397'),\n",
       " ('2016-11-03', 77.0, 'USC00519397'),\n",
       " ('2016-11-04', 77.0, 'USC00519397'),\n",
       " ('2016-11-05', 76.0, 'USC00519397'),\n",
       " ('2016-11-06', 75.0, 'USC00519397'),\n",
       " ('2016-11-07', 71.0, 'USC00519397'),\n",
       " ('2016-11-08', 71.0, 'USC00519397'),\n",
       " ('2016-11-09', 71.0, 'USC00519397'),\n",
       " ('2016-11-10', 71.0, 'USC00519397'),\n",
       " ('2016-11-11', 72.0, 'USC00519397'),\n",
       " ('2016-11-12', 71.0, 'USC00519397'),\n",
       " ('2016-11-13', 72.0, 'USC00519397'),\n",
       " ('2016-11-14', 77.0, 'USC00519397'),\n",
       " ('2016-11-15', 77.0, 'USC00519397'),\n",
       " ('2016-11-16', 77.0, 'USC00519397'),\n",
       " ('2016-11-17', 77.0, 'USC00519397'),\n",
       " ('2016-11-18', 77.0, 'USC00519397'),\n",
       " ('2016-11-19', 75.0, 'USC00519397'),\n",
       " ('2016-11-20', 76.0, 'USC00519397'),\n",
       " ('2016-11-21', 76.0, 'USC00519397'),\n",
       " ('2016-11-22', 75.0, 'USC00519397'),\n",
       " ('2016-11-23', 72.0, 'USC00519397'),\n",
       " ('2016-11-24', 74.0, 'USC00519397'),\n",
       " ('2016-11-25', 75.0, 'USC00519397'),\n",
       " ('2016-11-26', 73.0, 'USC00519397'),\n",
       " ('2016-11-27', 76.0, 'USC00519397'),\n",
       " ('2016-11-28', 75.0, 'USC00519397'),\n",
       " ('2016-11-29', 68.0, 'USC00519397'),\n",
       " ('2016-11-30', 75.0, 'USC00519397'),\n",
       " ('2016-12-01', 75.0, 'USC00519397'),\n",
       " ('2016-12-02', 72.0, 'USC00519397'),\n",
       " ('2016-12-03', 69.0, 'USC00519397'),\n",
       " ('2016-12-04', 71.0, 'USC00519397'),\n",
       " ('2016-12-05', 68.0, 'USC00519397'),\n",
       " ('2016-12-06', 67.0, 'USC00519397'),\n",
       " ('2016-12-07', 69.0, 'USC00519397'),\n",
       " ('2016-12-08', 73.0, 'USC00519397'),\n",
       " ('2016-12-09', 70.0, 'USC00519397'),\n",
       " ('2016-12-10', 70.0, 'USC00519397'),\n",
       " ('2016-12-11', 70.0, 'USC00519397'),\n",
       " ('2016-12-12', 66.0, 'USC00519397'),\n",
       " ('2016-12-13', 67.0, 'USC00519397'),\n",
       " ('2016-12-14', 70.0, 'USC00519397'),\n",
       " ('2016-12-15', 66.0, 'USC00519397'),\n",
       " ('2016-12-16', 62.0, 'USC00519397'),\n",
       " ('2016-12-17', 71.0, 'USC00519397'),\n",
       " ('2016-12-18', 73.0, 'USC00519397'),\n",
       " ('2016-12-19', 69.0, 'USC00519397'),\n",
       " ('2016-12-20', 77.0, 'USC00519397'),\n",
       " ('2016-12-21', 74.0, 'USC00519397'),\n",
       " ('2016-12-22', 71.0, 'USC00519397'),\n",
       " ('2016-12-23', 72.0, 'USC00519397'),\n",
       " ('2016-12-24', 74.0, 'USC00519397'),\n",
       " ('2016-12-25', 74.0, 'USC00519397'),\n",
       " ('2016-12-26', 74.0, 'USC00519397'),\n",
       " ('2016-12-27', 74.0, 'USC00519397'),\n",
       " ('2016-12-28', 71.0, 'USC00519397'),\n",
       " ('2016-12-29', 73.0, 'USC00519397'),\n",
       " ('2016-12-30', 69.0, 'USC00519397'),\n",
       " ('2016-12-31', 66.0, 'USC00519397'),\n",
       " ('2017-01-01', 62.0, 'USC00519397'),\n",
       " ('2017-01-02', 66.0, 'USC00519397'),\n",
       " ('2017-01-03', 63.0, 'USC00519397'),\n",
       " ('2017-01-04', 62.0, 'USC00519397'),\n",
       " ('2017-01-05', 63.0, 'USC00519397'),\n",
       " ('2017-01-06', 64.0, 'USC00519397'),\n",
       " ('2017-01-07', 66.0, 'USC00519397'),\n",
       " ('2017-01-08', 60.0, 'USC00519397'),\n",
       " ('2017-01-09', 64.0, 'USC00519397'),\n",
       " ('2017-01-10', 63.0, 'USC00519397'),\n",
       " ('2017-01-11', 78.0, 'USC00519397'),\n",
       " ('2017-01-12', 67.0, 'USC00519397'),\n",
       " ('2017-01-13', 67.0, 'USC00519397'),\n",
       " ('2017-01-14', 65.0, 'USC00519397'),\n",
       " ('2017-01-15', 66.0, 'USC00519397'),\n",
       " ('2017-01-16', 67.0, 'USC00519397'),\n",
       " ('2017-01-17', 66.0, 'USC00519397'),\n",
       " ('2017-01-18', 72.0, 'USC00519397'),\n",
       " ('2017-01-19', 73.0, 'USC00519397'),\n",
       " ('2017-01-20', 71.0, 'USC00519397'),\n",
       " ('2017-01-21', 72.0, 'USC00519397'),\n",
       " ('2017-01-22', 72.0, 'USC00519397'),\n",
       " ('2017-01-23', 72.0, 'USC00519397'),\n",
       " ('2017-01-24', 69.0, 'USC00519397'),\n",
       " ('2017-01-25', 72.0, 'USC00519397'),\n",
       " ('2017-01-26', 71.0, 'USC00519397'),\n",
       " ('2017-01-27', 65.0, 'USC00519397'),\n",
       " ('2017-01-28', 64.0, 'USC00519397'),\n",
       " ('2017-01-29', 67.0, 'USC00519397'),\n",
       " ('2017-01-30', 67.0, 'USC00519397'),\n",
       " ('2017-01-31', 68.0, 'USC00519397'),\n",
       " ('2017-02-01', 70.0, 'USC00519397'),\n",
       " ('2017-02-02', 61.0, 'USC00519397'),\n",
       " ('2017-02-03', 65.0, 'USC00519397'),\n",
       " ('2017-02-04', 72.0, 'USC00519397'),\n",
       " ('2017-02-05', 73.0, 'USC00519397'),\n",
       " ('2017-02-06', 76.0, 'USC00519397'),\n",
       " ('2017-02-07', 64.0, 'USC00519397'),\n",
       " ('2017-02-08', 62.0, 'USC00519397'),\n",
       " ('2017-02-09', 61.0, 'USC00519397'),\n",
       " ('2017-02-10', 71.0, 'USC00519397'),\n",
       " ('2017-02-11', 69.0, 'USC00519397'),\n",
       " ('2017-02-12', 68.0, 'USC00519397'),\n",
       " ('2017-02-13', 74.0, 'USC00519397'),\n",
       " ('2017-02-14', 75.0, 'USC00519397'),\n",
       " ('2017-02-15', 75.0, 'USC00519397'),\n",
       " ('2017-02-16', 71.0, 'USC00519397'),\n",
       " ('2017-02-17', 71.0, 'USC00519397'),\n",
       " ('2017-02-18', 68.0, 'USC00519397'),\n",
       " ('2017-02-19', 69.0, 'USC00519397'),\n",
       " ('2017-02-20', 71.0, 'USC00519397'),\n",
       " ('2017-02-21', 70.0, 'USC00519397'),\n",
       " ('2017-02-22', 72.0, 'USC00519397'),\n",
       " ('2017-02-23', 74.0, 'USC00519397'),\n",
       " ('2017-02-24', 70.0, 'USC00519397'),\n",
       " ('2017-02-25', 64.0, 'USC00519397'),\n",
       " ('2017-02-26', 65.0, 'USC00519397'),\n",
       " ('2017-02-27', 72.0, 'USC00519397'),\n",
       " ('2017-02-28', 74.0, 'USC00519397'),\n",
       " ('2017-03-01', 66.0, 'USC00519397'),\n",
       " ('2017-03-02', 73.0, 'USC00519397'),\n",
       " ('2017-03-03', 69.0, 'USC00519397'),\n",
       " ('2017-03-04', 74.0, 'USC00519397'),\n",
       " ('2017-03-05', 71.0, 'USC00519397'),\n",
       " ('2017-03-06', 69.0, 'USC00519397'),\n",
       " ('2017-03-07', 68.0, 'USC00519397'),\n",
       " ('2017-03-08', 71.0, 'USC00519397'),\n",
       " ('2017-03-09', 72.0, 'USC00519397'),\n",
       " ('2017-03-10', 68.0, 'USC00519397'),\n",
       " ('2017-03-11', 71.0, 'USC00519397'),\n",
       " ('2017-03-12', 74.0, 'USC00519397'),\n",
       " ('2017-03-13', 71.0, 'USC00519397'),\n",
       " ('2017-03-14', 71.0, 'USC00519397'),\n",
       " ('2017-03-15', 71.0, 'USC00519397'),\n",
       " ('2017-03-16', 70.0, 'USC00519397'),\n",
       " ('2017-03-17', 72.0, 'USC00519397'),\n",
       " ('2017-03-18', 69.0, 'USC00519397'),\n",
       " ('2017-03-19', 73.0, 'USC00519397'),\n",
       " ('2017-03-20', 75.0, 'USC00519397'),\n",
       " ('2017-03-21', 75.0, 'USC00519397'),\n",
       " ('2017-03-22', 74.0, 'USC00519397'),\n",
       " ('2017-03-23', 70.0, 'USC00519397'),\n",
       " ('2017-03-24', 73.0, 'USC00519397'),\n",
       " ('2017-03-25', 76.0, 'USC00519397'),\n",
       " ('2017-03-26', 76.0, 'USC00519397'),\n",
       " ('2017-03-27', 75.0, 'USC00519397'),\n",
       " ('2017-03-28', 77.0, 'USC00519397'),\n",
       " ('2017-03-29', 76.0, 'USC00519397'),\n",
       " ('2017-03-30', 77.0, 'USC00519397'),\n",
       " ('2017-03-31', 76.0, 'USC00519397'),\n",
       " ('2017-04-01', 76.0, 'USC00519397'),\n",
       " ('2017-04-02', 76.0, 'USC00519397'),\n",
       " ('2017-04-03', 77.0, 'USC00519397'),\n",
       " ('2017-04-04', 76.0, 'USC00519397'),\n",
       " ('2017-04-05', 78.0, 'USC00519397'),\n",
       " ('2017-04-06', 77.0, 'USC00519397'),\n",
       " ('2017-04-07', 77.0, 'USC00519397'),\n",
       " ('2017-04-08', 77.0, 'USC00519397'),\n",
       " ('2017-04-09', 72.0, 'USC00519397'),\n",
       " ('2017-04-10', 75.0, 'USC00519397'),\n",
       " ('2017-04-11', 79.0, 'USC00519397'),\n",
       " ('2017-04-12', 78.0, 'USC00519397'),\n",
       " ('2017-04-13', 77.0, 'USC00519397'),\n",
       " ('2017-04-14', 75.0, 'USC00519397'),\n",
       " ('2017-04-15', 73.0, 'USC00519397'),\n",
       " ('2017-04-16', 74.0, 'USC00519397'),\n",
       " ('2017-04-17', 74.0, 'USC00519397'),\n",
       " ('2017-04-18', 75.0, 'USC00519397'),\n",
       " ('2017-04-19', 74.0, 'USC00519397'),\n",
       " ('2017-04-20', 78.0, 'USC00519397'),\n",
       " ('2017-04-21', 73.0, 'USC00519397'),\n",
       " ('2017-04-22', 76.0, 'USC00519397'),\n",
       " ('2017-04-23', 77.0, 'USC00519397'),\n",
       " ('2017-04-24', 77.0, 'USC00519397'),\n",
       " ('2017-04-25', 77.0, 'USC00519397'),\n",
       " ('2017-04-26', 77.0, 'USC00519397'),\n",
       " ('2017-04-27', 78.0, 'USC00519397'),\n",
       " ('2017-04-28', 76.0, 'USC00519397'),\n",
       " ('2017-04-29', 72.0, 'USC00519397'),\n",
       " ('2017-04-30', 63.0, 'USC00519397'),\n",
       " ('2017-05-01', 75.0, 'USC00519397'),\n",
       " ('2017-05-02', 78.0, 'USC00519397'),\n",
       " ('2017-05-03', 78.0, 'USC00519397'),\n",
       " ('2017-05-04', 78.0, 'USC00519397'),\n",
       " ('2017-05-05', 79.0, 'USC00519397'),\n",
       " ('2017-05-06', 79.0, 'USC00519397'),\n",
       " ('2017-05-07', 79.0, 'USC00519397'),\n",
       " ('2017-05-08', 77.0, 'USC00519397'),\n",
       " ('2017-05-10', 78.0, 'USC00519397'),\n",
       " ('2017-05-11', 78.0, 'USC00519397'),\n",
       " ('2017-05-12', 79.0, 'USC00519397'),\n",
       " ('2017-05-13', 79.0, 'USC00519397'),\n",
       " ('2017-05-14', 77.0, 'USC00519397'),\n",
       " ('2017-05-15', 78.0, 'USC00519397'),\n",
       " ('2017-05-16', 78.0, 'USC00519397'),\n",
       " ('2017-05-17', 78.0, 'USC00519397'),\n",
       " ('2017-05-18', 73.0, 'USC00519397'),\n",
       " ('2017-05-19', 76.0, 'USC00519397'),\n",
       " ('2017-05-20', 78.0, 'USC00519397'),\n",
       " ('2017-05-21', 76.0, 'USC00519397'),\n",
       " ('2017-05-22', 77.0, 'USC00519397'),\n",
       " ('2017-05-23', 87.0, 'USC00519397'),\n",
       " ('2017-05-24', 77.0, 'USC00519397'),\n",
       " ('2017-05-25', 77.0, 'USC00519397'),\n",
       " ('2017-05-27', 74.0, 'USC00519397'),\n",
       " ('2017-05-28', 76.0, 'USC00519397'),\n",
       " ('2017-05-29', 75.0, 'USC00519397'),\n",
       " ('2017-05-30', 76.0, 'USC00519397'),\n",
       " ('2017-05-31', 79.0, 'USC00519397'),\n",
       " ('2017-06-01', 79.0, 'USC00519397'),\n",
       " ('2017-06-02', 79.0, 'USC00519397'),\n",
       " ('2017-06-03', 79.0, 'USC00519397'),\n",
       " ('2017-06-04', 79.0, 'USC00519397'),\n",
       " ('2017-06-05', 80.0, 'USC00519397'),\n",
       " ('2017-06-06', 79.0, 'USC00519397'),\n",
       " ('2017-06-07', 79.0, 'USC00519397'),\n",
       " ('2017-06-08', 80.0, 'USC00519397'),\n",
       " ('2017-06-09', 80.0, 'USC00519397'),\n",
       " ('2017-06-10', 77.0, 'USC00519397'),\n",
       " ('2017-06-11', 79.0, 'USC00519397'),\n",
       " ('2017-06-12', 83.0, 'USC00519397'),\n",
       " ('2017-06-13', 80.0, 'USC00519397'),\n",
       " ('2017-06-14', 80.0, 'USC00519397'),\n",
       " ('2017-06-15', 78.0, 'USC00519397'),\n",
       " ('2017-06-16', 79.0, 'USC00519397'),\n",
       " ('2017-06-17', 80.0, 'USC00519397'),\n",
       " ('2017-06-18', 77.0, 'USC00519397'),\n",
       " ('2017-06-19', 80.0, 'USC00519397'),\n",
       " ('2017-06-20', 78.0, 'USC00519397'),\n",
       " ('2017-06-21', 79.0, 'USC00519397'),\n",
       " ('2017-06-22', 80.0, 'USC00519397'),\n",
       " ('2017-06-23', 78.0, 'USC00519397'),\n",
       " ('2017-06-24', 80.0, 'USC00519397'),\n",
       " ('2017-06-25', 80.0, 'USC00519397'),\n",
       " ('2017-06-26', 81.0, 'USC00519397'),\n",
       " ('2017-06-27', 80.0, 'USC00519397'),\n",
       " ('2017-06-28', 79.0, 'USC00519397'),\n",
       " ('2017-06-29', 79.0, 'USC00519397'),\n",
       " ('2017-06-30', 75.0, 'USC00519397'),\n",
       " ('2017-07-01', 80.0, 'USC00519397'),\n",
       " ('2017-07-02', 80.0, 'USC00519397'),\n",
       " ('2017-07-03', 78.0, 'USC00519397'),\n",
       " ('2017-07-04', 80.0, 'USC00519397'),\n",
       " ('2017-07-05', 80.0, 'USC00519397'),\n",
       " ('2017-07-06', 81.0, 'USC00519397'),\n",
       " ('2017-07-07', 79.0, 'USC00519397'),\n",
       " ('2017-07-08', 80.0, 'USC00519397'),\n",
       " ('2017-07-09', 80.0, 'USC00519397'),\n",
       " ('2017-07-10', 80.0, 'USC00519397'),\n",
       " ('2017-07-11', 78.0, 'USC00519397'),\n",
       " ('2017-07-12', 81.0, 'USC00519397'),\n",
       " ('2017-07-13', 79.0, 'USC00519397'),\n",
       " ('2017-07-14', 81.0, 'USC00519397'),\n",
       " ('2017-07-15', 80.0, 'USC00519397'),\n",
       " ('2017-07-16', 78.0, 'USC00519397'),\n",
       " ('2017-07-17', 80.0, 'USC00519397'),\n",
       " ('2017-07-18', 80.0, 'USC00519397'),\n",
       " ('2017-07-20', 80.0, 'USC00519397'),\n",
       " ('2017-07-21', 80.0, 'USC00519397'),\n",
       " ('2017-07-22', 81.0, 'USC00519397'),\n",
       " ('2017-07-23', 81.0, 'USC00519397'),\n",
       " ('2017-07-24', 78.0, 'USC00519397'),\n",
       " ('2017-07-25', 80.0, 'USC00519397'),\n",
       " ('2017-07-26', 82.0, 'USC00519397'),\n",
       " ('2017-07-27', 79.0, 'USC00519397'),\n",
       " ('2017-07-28', 81.0, 'USC00519397'),\n",
       " ('2017-07-29', 81.0, 'USC00519397'),\n",
       " ('2017-07-30', 81.0, 'USC00519397'),\n",
       " ('2017-07-31', 80.0, 'USC00519397'),\n",
       " ('2017-08-01', 77.0, 'USC00519397'),\n",
       " ('2017-08-02', 73.0, 'USC00519397'),\n",
       " ('2017-08-03', 79.0, 'USC00519397'),\n",
       " ('2017-08-04', 80.0, 'USC00519397'),\n",
       " ('2017-08-05', 81.0, 'USC00519397'),\n",
       " ('2017-08-06', 80.0, 'USC00519397'),\n",
       " ('2017-08-07', 80.0, 'USC00519397'),\n",
       " ('2017-08-08', 80.0, 'USC00519397'),\n",
       " ('2017-08-09', 80.0, 'USC00519397'),\n",
       " ('2017-08-10', 81.0, 'USC00519397'),\n",
       " ('2017-08-11', 78.0, 'USC00519397'),\n",
       " ('2017-08-12', 80.0, 'USC00519397'),\n",
       " ('2017-08-13', 81.0, 'USC00519397'),\n",
       " ('2017-08-14', 79.0, 'USC00519397'),\n",
       " ('2017-08-15', 78.0, 'USC00519397'),\n",
       " ('2017-08-18', 80.0, 'USC00519397'),\n",
       " ('2017-08-19', 79.0, 'USC00519397'),\n",
       " ('2017-08-20', 81.0, 'USC00519397'),\n",
       " ('2017-08-21', 81.0, 'USC00519397'),\n",
       " ('2017-08-22', 82.0, 'USC00519397'),\n",
       " ('2017-08-23', 81.0, 'USC00519397')]"
      ]
     },
     "execution_count": 18,
     "metadata": {},
     "output_type": "execute_result"
    }
   ],
   "source": [
    "# Station Analysis\n",
    "\n",
    "# Hard coding the station from the previous query\n",
    "highest_station_name = highest_station_12_month[0][1]\n",
    "\n",
    "# Getting data from last 12 months\n",
    "station_df = session.query(measurement.date, measurement.tobs, measurement.station)\\\n",
    "    .filter(measurement.date >= start_date)\\\n",
    "    .filter(measurement.station == highest_station_name)\\\n",
    "    .all()\n",
    "station_df"
   ]
  },
  {
   "cell_type": "code",
   "execution_count": 19,
   "metadata": {},
   "outputs": [
    {
     "data": {
      "text/html": [
       "<div>\n",
       "<style scoped>\n",
       "    .dataframe tbody tr th:only-of-type {\n",
       "        vertical-align: middle;\n",
       "    }\n",
       "\n",
       "    .dataframe tbody tr th {\n",
       "        vertical-align: top;\n",
       "    }\n",
       "\n",
       "    .dataframe thead th {\n",
       "        text-align: right;\n",
       "    }\n",
       "</style>\n",
       "<table border=\"1\" class=\"dataframe\">\n",
       "  <thead>\n",
       "    <tr style=\"text-align: right;\">\n",
       "      <th></th>\n",
       "      <th>date</th>\n",
       "      <th>tobs</th>\n",
       "      <th>station</th>\n",
       "    </tr>\n",
       "  </thead>\n",
       "  <tbody>\n",
       "    <tr>\n",
       "      <th>0</th>\n",
       "      <td>2016-08-23</td>\n",
       "      <td>81.0</td>\n",
       "      <td>USC00519397</td>\n",
       "    </tr>\n",
       "    <tr>\n",
       "      <th>1</th>\n",
       "      <td>2016-08-24</td>\n",
       "      <td>79.0</td>\n",
       "      <td>USC00519397</td>\n",
       "    </tr>\n",
       "    <tr>\n",
       "      <th>2</th>\n",
       "      <td>2016-08-25</td>\n",
       "      <td>80.0</td>\n",
       "      <td>USC00519397</td>\n",
       "    </tr>\n",
       "    <tr>\n",
       "      <th>3</th>\n",
       "      <td>2016-08-26</td>\n",
       "      <td>79.0</td>\n",
       "      <td>USC00519397</td>\n",
       "    </tr>\n",
       "    <tr>\n",
       "      <th>4</th>\n",
       "      <td>2016-08-27</td>\n",
       "      <td>77.0</td>\n",
       "      <td>USC00519397</td>\n",
       "    </tr>\n",
       "  </tbody>\n",
       "</table>\n",
       "</div>"
      ],
      "text/plain": [
       "         date  tobs      station\n",
       "0  2016-08-23  81.0  USC00519397\n",
       "1  2016-08-24  79.0  USC00519397\n",
       "2  2016-08-25  80.0  USC00519397\n",
       "3  2016-08-26  79.0  USC00519397\n",
       "4  2016-08-27  77.0  USC00519397"
      ]
     },
     "execution_count": 19,
     "metadata": {},
     "output_type": "execute_result"
    }
   ],
   "source": [
    "# Station Analysis\n",
    "\n",
    "# Putting the query into a df\n",
    "highest_station_df = pd.DataFrame(station_df, columns=['date', 'tobs', 'station'])\n",
    "highest_station_df.head()"
   ]
  },
  {
   "cell_type": "code",
   "execution_count": 20,
   "metadata": {},
   "outputs": [
    {
     "data": {
      "image/png": "[encoded data removed]",
      "text/plain": [
       "<Figure size 432x288 with 1 Axes>"
      ]
     },
     "metadata": {},
     "output_type": "display_data"
    }
   ],
   "source": [
    "# Station Analysis\n",
    "\n",
    "# Plotting the df\n",
    "temp_plot = highest_station_df['tobs']\n",
    "temp_plot.plot.hist(bins=12)\n",
    "plt.xlabel('Temperature')\n",
    "plt.legend()\n",
    "plt.show()"
   ]
  },
  {
   "cell_type": "markdown",
   "metadata": {},
   "source": [
    "# Bonus Analysis"
   ]
  },
  {
   "cell_type": "code",
   "execution_count": 21,
   "metadata": {},
   "outputs": [
    {
     "data": {
      "text/html": [
       "<div>\n",
       "<style scoped>\n",
       "    .dataframe tbody tr th:only-of-type {\n",
       "        vertical-align: middle;\n",
       "    }\n",
       "\n",
       "    .dataframe tbody tr th {\n",
       "        vertical-align: top;\n",
       "    }\n",
       "\n",
       "    .dataframe thead th {\n",
       "        text-align: right;\n",
       "    }\n",
       "</style>\n",
       "<table border=\"1\" class=\"dataframe\">\n",
       "  <thead>\n",
       "    <tr style=\"text-align: right;\">\n",
       "      <th></th>\n",
       "      <th>station</th>\n",
       "      <th>date</th>\n",
       "      <th>prcp</th>\n",
       "      <th>tobs</th>\n",
       "    </tr>\n",
       "  </thead>\n",
       "  <tbody>\n",
       "    <tr>\n",
       "      <th>0</th>\n",
       "      <td>USC00519397</td>\n",
       "      <td>2010-01-01</td>\n",
       "      <td>0.08</td>\n",
       "      <td>65</td>\n",
       "    </tr>\n",
       "    <tr>\n",
       "      <th>1</th>\n",
       "      <td>USC00519397</td>\n",
       "      <td>2010-01-02</td>\n",
       "      <td>0.00</td>\n",
       "      <td>63</td>\n",
       "    </tr>\n",
       "    <tr>\n",
       "      <th>2</th>\n",
       "      <td>USC00519397</td>\n",
       "      <td>2010-01-03</td>\n",
       "      <td>0.00</td>\n",
       "      <td>74</td>\n",
       "    </tr>\n",
       "    <tr>\n",
       "      <th>3</th>\n",
       "      <td>USC00519397</td>\n",
       "      <td>2010-01-04</td>\n",
       "      <td>0.00</td>\n",
       "      <td>76</td>\n",
       "    </tr>\n",
       "    <tr>\n",
       "      <th>4</th>\n",
       "      <td>USC00519397</td>\n",
       "      <td>2010-01-06</td>\n",
       "      <td>NaN</td>\n",
       "      <td>73</td>\n",
       "    </tr>\n",
       "  </tbody>\n",
       "</table>\n",
       "</div>"
      ],
      "text/plain": [
       "       station        date  prcp  tobs\n",
       "0  USC00519397  2010-01-01  0.08    65\n",
       "1  USC00519397  2010-01-02  0.00    63\n",
       "2  USC00519397  2010-01-03  0.00    74\n",
       "3  USC00519397  2010-01-04  0.00    76\n",
       "4  USC00519397  2010-01-06   NaN    73"
      ]
     },
     "execution_count": 21,
     "metadata": {},
     "output_type": "execute_result"
    }
   ],
   "source": [
    "# Bonus Analysis\n",
    "\n",
    "# Creating dataframes using the csv files\n",
    "measurements_path = '../RU-JER-DATA-PT-04-2020-U-C/Homework/10-Advanced-Data-Storage-and-Retrieval/Instructions/Resources/hawaii_measurements.csv'\n",
    "station_path = '../RU-JER-DATA-PT-04-2020-U-C/Homework/10-Advanced-Data-Storage-and-Retrieval/Instructions/Resources/hawaii_stations.csv'\n",
    "\n",
    "measurements_dataframe = pd.read_csv(measurements_path)\n",
    "station_dataframe = pd.read_csv(station_path)\n",
    "measurements_dataframe.head()"
   ]
  },
  {
   "cell_type": "code",
   "execution_count": 22,
   "metadata": {},
   "outputs": [
    {
     "data": {
      "text/plain": [
       "74.94411764705882"
      ]
     },
     "execution_count": 22,
     "metadata": {},
     "output_type": "execute_result"
    }
   ],
   "source": [
    "# Bonus Analysis\n",
    "\n",
    "# Average June temp\n",
    "june = '06'\n",
    "june_data = session.query(measurement.date, measurement.tobs)\\\n",
    "    .filter(func.strftime(\"%m\", measurement.date) == june).all()\n",
    "june_df = pd.DataFrame(june_data, columns=['date', 'tobs'])\n",
    "june_average = june_df['tobs'].mean()\n",
    "june_average"
   ]
  },
  {
   "cell_type": "code",
   "execution_count": 23,
   "metadata": {},
   "outputs": [
    {
     "data": {
      "text/plain": [
       "71.04152933421226"
      ]
     },
     "execution_count": 23,
     "metadata": {},
     "output_type": "execute_result"
    }
   ],
   "source": [
    "# Bonus Analysis - Temperature Analysis 1\n",
    "\n",
    "# Average December temp\n",
    "december = '12'\n",
    "december_data = session.query(measurement.date, measurement.tobs)\\\n",
    "    .filter(func.strftime(\"%m\", measurement.date) == december).all()\n",
    "december_df = pd.DataFrame(december_data, columns=['date', 'tobs'])\n",
    "december_average = december_df['tobs'].mean()\n",
    "december_average"
   ]
  },
  {
   "cell_type": "code",
   "execution_count": 24,
   "metadata": {},
   "outputs": [
    {
     "data": {
      "text/plain": [
       "Ttest_1sampResult(statistic=-40.5776649801089, pvalue=2.482878606222954e-244)"
      ]
     },
     "execution_count": 24,
     "metadata": {},
     "output_type": "execute_result"
    }
   ],
   "source": [
    "# Bonus Analysis - Temperature Analysis 1\n",
    "\n",
    "# Running a 1sample ttest to see if there is a signifigance difference in means\n",
    "# Used a 1 sample ttest becasue we are comparing the same island of hawaii but with differenet time frames\n",
    "# pvalue suggests that the difference in means is statistically signifigant\n",
    "ttest = stats.ttest_1samp(december_df['tobs'], june_average)\n",
    "ttest"
   ]
  },
  {
   "cell_type": "code",
   "execution_count": 25,
   "metadata": {},
   "outputs": [
    {
     "name": "stdout",
     "output_type": "stream",
     "text": [
      "[(62.0, 69.57142857142857, 74.0)]\n"
     ]
    }
   ],
   "source": [
    "# Bonus Analysis - Temperature Analysis 2\n",
    "\n",
    "# Using the function\n",
    "def calc_temps(start_date, end_date):\n",
    "    \n",
    "    return session.query(func.min(measurement.tobs), func.avg(measurement.tobs), func.max(measurement.tobs)).\\\n",
    "        filter(measurement.date >= start_date).filter(measurement.date <= end_date).all()\n",
    "\n",
    "# function usage example\n",
    "print(calc_temps('2012-02-28', '2012-03-05'))"
   ]
  },
  {
   "cell_type": "code",
   "execution_count": 26,
   "metadata": {},
   "outputs": [
    {
     "data": {
      "image/png": "[encoded data removed]",
      "text/plain": [
       "<Figure size 216x432 with 1 Axes>"
      ]
     },
     "metadata": {},
     "output_type": "display_data"
    }
   ],
   "source": [
    "# Bonus Analysis - Temperature Analysis 2\n",
    "# Plotting results\n",
    "\n",
    "stats = calc_temps('2016-08-23', '2017-08-23')\n",
    "rain_stats_df = pd.DataFrame(stats, columns=['min', 'avg', 'max'])\n",
    "yerr_value_calc = rain_stats_df['max'].values - rain_stats_df['min'].values\n",
    "yerr_value = yerr_value_calc[0]\n",
    "rain_stats_df.plot(kind='bar', y='avg', yerr=yerr_value, figsize=(3,6))\n",
    "plt.show()"
   ]
  }
 ],
 "metadata": {
  "kernelspec": {
   "display_name": "Python 3",
   "language": "python",
   "name": "python3"
  },
  "language_info": {
   "codemirror_mode": {
    "name": "ipython",
    "version": 3
   },
   "file_extension": ".py",
   "mimetype": "text/x-python",
   "name": "python",
   "nbconvert_exporter": "python",
   "pygments_lexer": "ipython3",
   "version": "3.7.7"
  }
 },
 "nbformat": 4,
 "nbformat_minor": 4
}
